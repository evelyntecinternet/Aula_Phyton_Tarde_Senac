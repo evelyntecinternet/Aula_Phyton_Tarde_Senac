{
  "nbformat": 4,
  "nbformat_minor": 0,
  "metadata": {
    "colab": {
      "provenance": [],
      "authorship_tag": "ABX9TyOMKy3hx03WQQQeyKr+Hj82",
      "include_colab_link": true
    },
    "kernelspec": {
      "name": "python3",
      "display_name": "Python 3"
    },
    "language_info": {
      "name": "python"
    }
  },
  "cells": [
    {
      "cell_type": "markdown",
      "metadata": {
        "id": "view-in-github",
        "colab_type": "text"
      },
      "source": [
        "<a href=\"https://colab.research.google.com/github/evelyntecinternet/Aula_Phyton_Tarde_Senac/blob/main/Tudo.ipynb\" target=\"_parent\"><img src=\"https://colab.research.google.com/assets/colab-badge.svg\" alt=\"Open In Colab\"/></a>"
      ]
    },
    {
      "cell_type": "markdown",
      "source": [
        "# **Forca**"
      ],
      "metadata": {
        "id": "pe029KGzdzep"
      }
    },
    {
      "cell_type": "code",
      "execution_count": null,
      "metadata": {
        "id": "sWGnilstbVp2"
      },
      "outputs": [],
      "source": [
        "# Forca\n",
        "import random # import random foi usado para gerar uma seleção aleatória de palavras a partir de uma lista pré-definida de palavras\n",
        "\n",
        "def escolher_palavra(): # def é usado para definir funções\n",
        "    palavras = [\"python\", \"satoru\", \"internet\", \"seinen\", \"social\"]\n",
        "    return random.choice(palavras)# a função random.choice()  escolhe aleatoriamente uma palavra da lista de palavras disponíveis\n",
        "\n",
        "def exibir_palavra(palavra, letras_corretas):\n",
        "    exibicao = \"\"\n",
        "    for letra in palavra:\n",
        "        if letra in letras_corretas:\n",
        "            exibicao += letra\n",
        "        else:\n",
        "            exibicao += \"_\"\n",
        "    return exibicao # return em Python é usada dentro de uma função para retornar um valor ao chamador da função\n",
        "\n",
        "def jogar_forca():\n",
        "    palavra_secreta = escolher_palavra()\n",
        "    letras_corretas = []\n",
        "    tentativas = 6  # Número máximo de tentativas\n",
        "\n",
        "    print(\"Bem-vindo ao Jogo da Forca!\")\n",
        "    print(exibir_palavra(palavra_secreta, letras_corretas))\n",
        "\n",
        "    while tentativas > 0: # while em Python é usada para criar loops,que executam repetidamente um bloco de código enquanto uma condição especificada for verdadeira.\n",
        "        palpite = input(\"Digite uma letra: \").lower() # .lower() foi usado para converter todas as letras do palpite do jogador para minúsculas.\n",
        "\n",
        "        if palpite in letras_corretas:\n",
        "            print(\"Você já tentou essa letra. Tente novamente.\")\n",
        "\n",
        "        elif palpite in palavra_secreta:\n",
        "            letras_corretas.append(palpite)# .append() para adicionar as letras erradas que o jogador tenta ao longo do jogo  a uma lista que armazena essas letras.\n",
        "            print(\"Letra correta!\")\n",
        "\n",
        "        else:\n",
        "            tentativas -= 1\n",
        "            print(f\"Letra incorreta! Tentativas restantes: {tentativas}\")\n",
        "# f\" antes das aspas em uma string indica que esta é uma string de formatação (format string). As strings de formatação permitem que você insira variáveis e expressões diretamente dentro de uma string\n",
        "\n",
        "        print(exibir_palavra(palavra_secreta, letras_corretas))\n",
        "\n",
        "        if \"_\" not in exibir_palavra(palavra_secreta, letras_corretas):\n",
        "            print(\"Parabéns! Você ganhou!\")\n",
        "            break # break é usado para sair de um loop prematuramente assim que uma condição específica for atendida, tornando o código mais eficiente e legível.\n",
        "\n",
        "    if tentativas == 0:\n",
        "        print(f\"Fim de jogo! A palavra era '{palavra_secreta}'. Tente novamente.\")\n",
        "\n",
        "# Chame a função para iniciar o jogo\n",
        "jogar_forca()"
      ]
    },
    {
      "cell_type": "markdown",
      "source": [
        "# **Ordem crescente**"
      ],
      "metadata": {
        "id": "NBZ0nX9-5rgY"
      }
    },
    {
      "cell_type": "code",
      "source": [
        "# Exercício 31\n",
        "\n",
        "# Ler três valores inteiros distintos\n",
        "n1 = int(input(\"Digite o primeiro número: \"))\n",
        "n2 = int(input(\"Digite o segundo número: \"))\n",
        "n3 = int(input(\"Digite o terceiro número: \"))\n",
        "\n",
        "# Encontrar o menor número\n",
        "menor = min(n1, n2, n3)\n",
        "\n",
        "# Encontrar o maior número\n",
        "maior = max(n1, n2, n3)\n",
        "\n",
        "# Encontrar o número do meio\n",
        "meio = (n1 + n2 + n3) - menor - maior\n",
        "\n",
        "# Escrever os números em ordem crescente\n",
        "print(\"Os números em ordem crescente são:\", menor, meio, maior)"
      ],
      "metadata": {
        "id": "WQdIPXI_5u9P"
      },
      "execution_count": null,
      "outputs": []
    },
    {
      "cell_type": "markdown",
      "source": [
        "# **Posição & letra por letra**"
      ],
      "metadata": {
        "id": "FUWgKrTad6aB"
      }
    },
    {
      "cell_type": "code",
      "source": [
        "saudacao = \"Hello Word!\"\n",
        "print (\"saudacao\")\n",
        "print(saudacao)\n",
        "                              #pode pegar cada carcter na str\n",
        "print(saudacao[0])\n",
        "print(saudacao[6])\n",
        "print(saudacao[0:5])\n",
        "print(saudacao[6::])\n",
        "print(saudacao[0], saudacao[1])#imprimir com espaço\n",
        "print(saudacao[0] + saudacao[1]) #contatenou = Juntou\n",
        "print(saudacao[0], \"-\",saudacao[1], \"_\",saudacao[2])\n",
        "print(\"Inicio do for\")\n",
        "for x in saudacao:\n",
        "  print(x)\n",
        "\n",
        "print(\"End!!\")"
      ],
      "metadata": {
        "id": "u6iDqSyhckgx"
      },
      "execution_count": null,
      "outputs": []
    },
    {
      "cell_type": "markdown",
      "source": [
        "# **Matemática_Operações**"
      ],
      "metadata": {
        "id": "TW5lnR9TeKRR"
      }
    },
    {
      "cell_type": "code",
      "source": [
        "print(\"A soma é:\", 5+3)\n",
        "print(\"A divisão é:\",5/3)\n",
        "print(\"A multiplicação é:\",5*3)\n",
        "print(\"A subtração é:\",5-3)"
      ],
      "metadata": {
        "id": "DlKuF36bcuH5"
      },
      "execution_count": null,
      "outputs": []
    },
    {
      "cell_type": "code",
      "source": [
        "soma = 5+3\n",
        "subtracao = 5-3\n",
        "multiplicacao = 5*3\n",
        "divisao = 5/3\n",
        "print(\"A soma é:\", soma)\n",
        "print(\"O tipo de dado da soma é:\",type(soma))\n",
        "print(\"A divisão é:\",divisao)\n",
        "print(\"O tipo de dado da divisao é:\",type(divisao))\n",
        "print(\"A multiplicação é:\",multiplicacao)\n",
        "print(\"O tipo de dado da multiplicação é:\",type(multiplicacao))\n",
        "print(\"A subtração é:\",subtracao)\n",
        "print(\"O tipo de dado da subtração é:\",type(subtracao))#saber o tipo da váriavel"
      ],
      "metadata": {
        "id": "wboCJKTCcvGJ"
      },
      "execution_count": null,
      "outputs": []
    },
    {
      "cell_type": "code",
      "source": [
        "# exercício 1\n",
        "n1 = 34 # @param {type:\"integer\"}\n",
        "n2 = 66 # @param {type:\"integer\"} variável da célula de baixo\n",
        "print(n1 + n2)"
      ],
      "metadata": {
        "id": "fG-J3tKMhlKJ"
      },
      "execution_count": null,
      "outputs": []
    },
    {
      "cell_type": "code",
      "source": [
        "# Exercício 2\n",
        "print(\"Soma: \",n1 + n2)   #tem como reutilizar a variavel mesmo em outras células\n",
        "print(\"Divisão: \",n1 / n2) #precisa executar a celula da variavel apra as outras funcionarem\n",
        "print(\"Subtração: \",n1 - n2)\n",
        "print(\"multiplicação: \",n1 * n2)"
      ],
      "metadata": {
        "id": "9FzzKWWbhl3K"
      },
      "execution_count": null,
      "outputs": []
    },
    {
      "cell_type": "code",
      "source": [
        "# exercício 3\n",
        "km = 164 #distãncia\n",
        "gs = 40 #gasolina #combustivel gasto\n",
        "divi = km/gs # <--- para descobrir o consumo médio\n",
        "#consnumo médio = distaciaPercorrida/ combustivelGasto\n",
        "print(\"O consumo médio é: \",divi)"
      ],
      "metadata": {
        "id": "fBB0GFKYhyoJ"
      },
      "execution_count": null,
      "outputs": []
    },
    {
      "cell_type": "code",
      "source": [
        "# exercício 4\n",
        "nome_vendedor = input(\"Digite o nome do vendedor: \")\n",
        "salario_fixo = int(input(\"Digite o valor do sálario fixo: \"))\n",
        "vendas = 2300 # @param {type:\"integer\"}\n",
        "sl_final = salario_fixo + (vendas * 0.15)\n",
        "print(\"nome: \",nome_vendedor)\n",
        "print(salario_fixo)\n",
        "print(sl_final)"
      ],
      "metadata": {
        "id": "LmsYGw_3h0YJ"
      },
      "execution_count": null,
      "outputs": []
    },
    {
      "cell_type": "code",
      "source": [
        "# exercício 5\n",
        "# média do aluno\n",
        "nome_aluno = input(\"Digite o nome do aluno: \")\n",
        "nota1 = float (input(\"Digite a nota do aluno: \"))\n",
        "nota2 = float (input(\"Digite a nota do aluno: \"))\n",
        "nota3 = float (input(\"Digite a nota do aluno: \"))\n",
        "print(\"o aluno é: \",nome_aluno)\n",
        "print(\"Obteve a média: \",(nota1 + nota2 + nota3)/3)\n",
        "#nome_aluno = \"Camilla\" # @param {type:\"string\"}\n",
        "#print(nome_aluno)\n",
        "#mat = 6\n",
        "#port = 4\n",
        "#geo = 0\n",
        "#media = mat + geo + port / 3\n",
        "#print(\"A sua média é: \",media)"
      ],
      "metadata": {
        "id": "IJsa-S-wh5pJ"
      },
      "execution_count": null,
      "outputs": []
    },
    {
      "cell_type": "code",
      "source": [
        "# exercício 7\n",
        "c = float(input(\"Digite a temperatura: \"))\n",
        "print(\"Os graus Celsius é: \",c)\n",
        "f = (9*c + 160)/5\n",
        "print(\"Os graus Celsius convertidos em Fahrenheit é: \",f)"
      ],
      "metadata": {
        "id": "TlSYpIQ7i0GX"
      },
      "execution_count": null,
      "outputs": []
    },
    {
      "cell_type": "code",
      "source": [
        "# exercício 8\n",
        "cotacao = 4.92\n",
        "\n",
        "qtdDollar = 25 # quantidade de dollar\n",
        "\n",
        "print(\"Você tem: R$ \",qtdDollar * cotacao)\n",
        "#cotacao_dollar = 4.96 # @param {type:\"number\"}\n",
        "#dollar = 2000 # @param {type:\"number\"}\n",
        "#print(\"O valor da cotação é: \",cotacao_dollar)\n",
        "#print( \"O valor é: \",dollar)\n",
        "#real = dollar / cotacao_dollar\n",
        "#print(\"Em real será: \",real)"
      ],
      "metadata": {
        "id": "tGzpQOc2i9bB"
      },
      "execution_count": null,
      "outputs": []
    },
    {
      "cell_type": "code",
      "source": [
        "# exercício 9\n",
        "va_depo = float(input(\"Digite o valor depositado\"))  #va_depo = Valor depositado   #mult o valor pelo 0,70(juros) * o tempo\n",
        "print(\"o valor com rendimento após um mês foi de: \",va_depo + (va_depo * 0.007))\n",
        "poupanca = va_depo * 0.70 * 1 #juros 70%\n",
        "print(\"O valor guardado até agora é: \",poupanca)"
      ],
      "metadata": {
        "id": "sdGAvLe8jGMh"
      },
      "execution_count": null,
      "outputs": []
    },
    {
      "cell_type": "code",
      "source": [
        "# exercício 10\n",
        "compra_v = float(input(\"Digite o valor da compra: \"))\n",
        "print(\"O valor das prestações é de 5 parcelas de : \",\"R$\",compra_v / 5)"
      ],
      "metadata": {
        "id": "GvMN19fUjXrg"
      },
      "execution_count": null,
      "outputs": []
    },
    {
      "cell_type": "code",
      "source": [
        "# exercício 11\n",
        "preco_custo = float(input(\"Digite o valor de custo do produto: \"))\n",
        "percentual = float(input(\"Digite o percentual: \"))\n",
        "print(preco_custo + preco_custo * (percentual / 100))"
      ],
      "metadata": {
        "id": "kod4sd3Cjf_I"
      },
      "execution_count": null,
      "outputs": []
    },
    {
      "cell_type": "code",
      "source": [
        "# exercício 12\n",
        "custo_f = 20.567 # @param {type:\"number\"}\n",
        "# 45% impostos  + custo_f  + 28% distribuidor\n",
        "carro = 45/100 + custo_f + 28/100\n",
        "print(\"O valor do carro é:\",\"R$\",carro)"
      ],
      "metadata": {
        "id": "Ngv5jInNjyzI"
      },
      "execution_count": null,
      "outputs": []
    },
    {
      "cell_type": "code",
      "source": [
        "# Exercício 30\n",
        "salario = 1721 # @param {type:\"number\"} # váriavel para receber o salário do funcionário\n",
        "idade = 34 # @param {type:\"number\"}\n",
        "nome = input(\"Digite o seu nome: \")\n",
        "print(\"Idade:\",idade)\n",
        "sexo = input(\"Digite o seu sexo: \")\n",
        "print(\"o seu salário é:\",\"R$\",salario)\n",
        "sl = salario - 158 # 158 de desconto\n",
        "print(\"O seu salário liquido é:\",\"R$\",sl)# sl <-- salário liquido"
      ],
      "metadata": {
        "id": "NxB-UtKIj8JA"
      },
      "execution_count": null,
      "outputs": []
    },
    {
      "cell_type": "markdown",
      "source": [
        "# **Trocar os valores das Varíaveis**"
      ],
      "metadata": {
        "id": "Frb57yO3iqSZ"
      }
    },
    {
      "cell_type": "code",
      "source": [
        "#  exercício 6: Valores trocados\n",
        "a = 20\n",
        "b = 32\n",
        "print(a)\n",
        "print(b)\n",
        "temp = a\n",
        "a = b\n",
        "b = temp\n",
        "print(\"-------\")\n",
        "print(a)\n",
        "print(b)\n",
        "#a = int(input('Insira o primeiro valor: '))\n",
        "#b = int(input('Insira o segundo valor: '))\n",
        "#c = a\n",
        "#a = b\n",
        "#b = c\n",
        "#print(\"Valor de A: \",a,\"E valor de B: \",b)"
      ],
      "metadata": {
        "id": "MatL5eHMibay"
      },
      "execution_count": null,
      "outputs": []
    },
    {
      "cell_type": "markdown",
      "source": [
        "# **.Teste**"
      ],
      "metadata": {
        "id": "HdzIFhFueSdY"
      }
    },
    {
      "cell_type": "code",
      "source": [
        "nome = \"evelyn Oliveira\"\n",
        "print(nome)\n",
        "print(nome.capitalize()) #primeira letra maiscula\n",
        "print(nome.upper())#tudo maisculo\n",
        "print(nome.casefold()) #tudo minusculo\n",
        "print(nome.find(\"i\"))# achar posição da letra\n",
        "print(nome.replace(\"e\",\"&\"))#troca a letra correspondente pela do lado\n",
        "print(nome.count(\"i\"))#contar a quantidade da mesma letra"
      ],
      "metadata": {
        "id": "Xz1Ti0zoc3_5"
      },
      "execution_count": null,
      "outputs": []
    },
    {
      "cell_type": "markdown",
      "source": [
        "# **Adicionar informações e pedir informações**"
      ],
      "metadata": {
        "id": "FNKyh0XhedMo"
      }
    },
    {
      "cell_type": "code",
      "source": [
        "nome_completo = \"Evelyn Alves Da Cruz Oliveira\" # @param {type:\"string\"} # Add new form field <-- Insert\n",
        "data_nascimento = \"2006-08-23\" # @param {type:\"date\"}\n",
        "print(nome_completo)\n",
        "nome = input(\"Digite o seu nome : \")\n",
        "print(nome)\n",
        "print(data_nascimento)\n"
      ],
      "metadata": {
        "id": "O-zdd1U3dP_B"
      },
      "execution_count": null,
      "outputs": []
    },
    {
      "cell_type": "code",
      "source": [
        "nome = input(\"Digite o seu nome : \")\n",
        "print(\"o nome é: \",nome)\n",
        "\n",
        "idade = input(\"Digite a sua idade : \")\n",
        "print(\"A idade é: \",idade)"
      ],
      "metadata": {
        "id": "FY6bz2PldVAx"
      },
      "execution_count": null,
      "outputs": []
    },
    {
      "cell_type": "markdown",
      "source": [
        "# **IF & For**"
      ],
      "metadata": {
        "id": "SUartk77fJBP"
      }
    },
    {
      "cell_type": "code",
      "source": [
        "nome = \"Ana\" # @param {type:\"string\"}\n",
        "idade = 12 # @param {type:\"integer\"}\n",
        "\n",
        "if idade >= 18 :\n",
        "  print(\"MAIOR\")\n",
        "else:\n",
        "  print(\"menor\")"
      ],
      "metadata": {
        "id": "_687ReEndXpx",
        "colab": {
          "base_uri": "https://localhost:8080/"
        },
        "outputId": "a43b7079-b00b-4409-820c-08ddb8e30801"
      },
      "execution_count": null,
      "outputs": [
        {
          "output_type": "stream",
          "name": "stdout",
          "text": [
            "menor\n"
          ]
        }
      ]
    },
    {
      "cell_type": "code",
      "source": [
        "#for\n",
        "\n",
        "for x in range(15,25):\n",
        "  print(x) # vai do 15 ao 24"
      ],
      "metadata": {
        "id": "HMfDSw9Ddc35"
      },
      "execution_count": null,
      "outputs": []
    },
    {
      "cell_type": "code",
      "source": [
        "# Exercício 19\n",
        "\n",
        "# Inicializar contadores\n",
        "total_homens = 0\n",
        "total_mulheres = 0\n",
        "\n",
        "# Loop para ler os dados de 56 pessoas\n",
        "for _ in range(56): # _ <-- valor da váriavel não é relevante para o loop\n",
        "    # Ler o nome e o sexo da pessoa\n",
        "    nome = input(\"Digite o nome da pessoa: \")\n",
        "    sexo = input(\"Digite o sexo da pessoa (M para masculino, F para feminino): \")\n",
        "\n",
        "    # Verificar o sexo e incrementar o contador apropriado\n",
        "    if sexo.upper() == \"M\": # irá fazer a letra ficar maiscula,evitando erros\n",
        "        print(f\"{nome} é homem.\")\n",
        "        total_homens += 1\n",
        "    elif sexo.upper() == \"F\": # irá fazer a letra ficar maiscula,evitando erros\n",
        "        print(f\"{nome} é mulher.\")\n",
        "        total_mulheres += 1 #total_mulheres += 1 aumenta o valor de total_mulheres em 1 a cada vez que é executado.\n",
        "    else:\n",
        "        print(\"Sexo inválido. Por favor, digite 'M' para masculino ou 'F' para feminino.\")\n",
        "\n",
        "# Exibir total de homens e mulheres\n",
        "print(f\"Total de homens: {total_homens}\")\n",
        "print(f\"Total de mulheres: {total_mulheres}\")"
      ],
      "metadata": {
        "id": "qILRy99N69ZZ"
      },
      "execution_count": null,
      "outputs": []
    },
    {
      "cell_type": "code",
      "source": [
        "# If\n",
        "nome =\"Joe\"\n",
        "if nome == \"Jose\" or nome == \"Maria\" or nome == \"Pedro\":\n",
        "  print(\"Igual\")\n",
        "else:\n",
        "  print(\"Não é igual\")"
      ],
      "metadata": {
        "id": "PPnmohxQdr_C"
      },
      "execution_count": null,
      "outputs": []
    },
    {
      "cell_type": "code",
      "source": [
        "# exercício 14\n",
        "n1 = int(input(\"Digite um número: \")) # peça ao usuário um número\n",
        "n2 = int(input(\"Digite um número: \"))\n",
        "\n",
        "if n1 >  n2: #use if e else para verificar se é maior ou menor do que o outro\n",
        " print(\"é maior\")\n",
        "else:\n",
        "  print(\"é menor\")\n"
      ],
      "metadata": {
        "id": "OIvLRUC_kFSY"
      },
      "execution_count": null,
      "outputs": []
    },
    {
      "cell_type": "code",
      "source": [
        "#exercício 15\n",
        "numero = int(input(\"Digite o número : \")) # int transforma o número em inteiro\n",
        "\n",
        "#testar o numero se esta entre 100 e 200 ( >100 e <200)  e AND\n",
        "\n",
        "if numero > 100 and numero < 200:\n",
        "  print(\"O numero esta entre 100 e 200\")\n",
        "else:\n",
        "  print(\"O numero não está entre 100 e 200\")"
      ],
      "metadata": {
        "id": "As96AYUYkMhA"
      },
      "execution_count": null,
      "outputs": []
    },
    {
      "cell_type": "code",
      "source": [
        "# exercício 16\n",
        "nome = input(\"Digite o seu nome : \")\n",
        "nota_1 = 1       #somar tudo e dividir pela quantidade e usar if e else\n",
        "nota_2 = 2\n",
        "nota_3 = 7\n",
        "soma = nota_1 + nota_2 + nota_3 / 3\n",
        "print(\"A média é: \",soma)\n",
        "if soma > 7 and soma < 5:\n",
        "  print(\"Aprovado!\")\n",
        "elif soma >= 7.9 and soma < 5.1:\n",
        "  print(\"Recuperação!\")  #tem que ser colocado no meio Ela é usada em uma estrutura condicional para testar múltiplas condições em sequência, evitando a necessidade de encadear vários blocos if e else consecutivos.\n",
        "else :\n",
        "  print(\"Reprovado!\")"
      ],
      "metadata": {
        "id": "1aCKPAakkbu4"
      },
      "execution_count": null,
      "outputs": []
    },
    {
      "cell_type": "code",
      "source": [
        "# exercício 17\n",
        "contador_intervalo = 0\n",
        "\n",
        "# Faça um loop para ler 80 números\n",
        "for _ in range(80):\n",
        "    # Solicite a entrada do usuário e converta para inteiro\n",
        "    numero = int(input(\"Digite um número: \"))\n",
        "\n",
        "    # Verifique se o número está no intervalo desejado\n",
        "    if 10 <= numero <= 150:\n",
        "        contador_intervalo += 1\n",
        "\n",
        "# Imprima o resultado\n",
        "print(f\"Quantidade de números no intervalo entre 10 e 150 (inclusive): {contador_intervalo}\")\n",
        "#Neste exemplo, o código solicita ao usuário que digite 80 números, verifica se cada"
      ],
      "metadata": {
        "id": "JitLhmm5kvI3"
      },
      "execution_count": null,
      "outputs": []
    },
    {
      "cell_type": "code",
      "source": [
        "# exercício 18\n",
        "for i in range (75): # for para a idade de 75 pessoas\n",
        "#solicita o usuário que insira a idade\n",
        "  idade = int(input(f\"Digite a idade da {i + 1}ª pessoa: \"))\n",
        "if idade >= 18:\n",
        "  print(\"Maior de idade\")\n",
        "else:\n",
        "  print(\"Menor de idade\")"
      ],
      "metadata": {
        "id": "cGPduq9TlHWo"
      },
      "execution_count": null,
      "outputs": []
    },
    {
      "cell_type": "code",
      "source": [
        "# exercício 23\n",
        "N = 81 # váriavel para receber um número\n",
        "if N > 80: # maior que 80\n",
        "   print(\"Maior!\")\n",
        "elif N < 25: # menor que 25\n",
        "   print(\"Menor!\")\n",
        "elif N == 40: # igual a 40\n",
        "   print(\"Igual!\")"
      ],
      "metadata": {
        "id": "49bzxvnuqMkm"
      },
      "execution_count": null,
      "outputs": []
    },
    {
      "cell_type": "markdown",
      "source": [
        "# **Lista/Planilha**"
      ],
      "metadata": {
        "id": "ue9gtiOgfXXS"
      }
    },
    {
      "cell_type": "code",
      "source": [
        "lista_nomes = [\"Ana\",\"Pedro\",\"Thiago\",\"Joaõ\",\"Maria\"]\n",
        "nome =\"Jose\"\n",
        "\n",
        "if nome in [ \"Maria\", \"Felipe\", \"Jose\"]:\n",
        "  print(\"Igual\")\n",
        "else:\n",
        "  print(\"Não é igual\")"
      ],
      "metadata": {
        "id": "ogYcvznjdwyx"
      },
      "execution_count": null,
      "outputs": []
    },
    {
      "cell_type": "code",
      "source": [
        "frutas = [\"maça\",\"pera\",\"mamão\"]\n",
        "print(frutas)\n",
        "\n",
        "frutas.append(\"banana\") # Adiciona um elemento\n",
        "print(frutas)\n",
        "\n",
        "frutas.append(\"banana\")\n",
        "print(frutas)\n",
        "\n",
        "frutas.pop() # apaga o último elemento\n",
        "print(frutas)\n",
        "\n",
        "frutas.sort() # organiza em ordem alfabética\n",
        "print(frutas)\n",
        "\n",
        "for x in frutas:\n",
        "  print(x)"
      ],
      "metadata": {
        "id": "FTIl9ZaWgRTZ"
      },
      "execution_count": null,
      "outputs": []
    },
    {
      "cell_type": "code",
      "source": [
        "# Tabela Excel\n",
        "frutas = [\"maça\",\"pera\",\"uva\",\"banana\"]\n",
        "n=0\n",
        "for x in frutas:\n",
        "  print(f\"ws['A{n + 1}'] = '{x}'\")\n",
        "  n+=1"
      ],
      "metadata": {
        "id": "7QpKTR9ngj4i"
      },
      "execution_count": null,
      "outputs": []
    },
    {
      "cell_type": "code",
      "source": [
        "# prompt: create planilha excel\n",
        "\n",
        "from openpyxl import Workbook\n",
        "from openpyxl.styles import Font\n",
        "\n",
        "wb = Workbook()\n",
        "ws = wb.active\n",
        "\n",
        "ws['A1'] = 'Nome'\n",
        "ws['B1'] = 'Produto'\n",
        "ws['C1'] = 'Preço'\n",
        "ws['A2'] = 'Jose'\n",
        "ws['B2'] = 'Celular'\n",
        "ws['C2'] = 1000\n",
        "ws['A3'] = 'Maria'\n",
        "ws['B3'] = 'Celular'\n",
        "ws['C3'] = 980\n",
        "ws['B5'] = \"Total\"\n",
        "ws['C5']=  sum([ws['C2'].value,ws['C3'].value])\n",
        "ws['C6'] = min([ws['C2'].value,ws['C3'].value])\n",
        "n1 = ws['C2'].value\n",
        "n2 = ws['C3'].value\n",
        "ws['C10'] = n1/n2\n",
        "\n",
        "\n",
        "wb.save('my_excel_file.xlsx')"
      ],
      "metadata": {
        "id": "-n9Z1pbv4lKJ"
      },
      "execution_count": null,
      "outputs": []
    },
    {
      "cell_type": "code",
      "source": [
        "import pandas as pd\n",
        "import numpy as np\n",
        "import matplotlib.pyplot as plt\n",
        "\n",
        "planilha1 = '/content/sample_data/vendas1.xlsx'\n",
        "planilha2 = '/content/sample_data/vendas2.xlsx'\n",
        "planilha3 = '/content/sample_data/vendas3.xlsx'\n",
        "\n",
        "plan1 = pd.read_excel(planilha1)\n",
        "#(planilha1, sheet_name='NomePlanilha') para buscar uma planilha especifica dentro de uma past\n",
        "plan2 = pd.read_excel(planilha2)\n",
        "plan3 = pd.read_excel(planilha3)\n",
        "\n",
        "#print(plan1)\n",
        "\n",
        "juntandoTudo = pd.concat([plan1,plan2,plan3])\n",
        "\n",
        "\n",
        "print(juntandoTudo)\n",
        "print(juntandoTudo[\"PRODUTOS\"])\n",
        "\n",
        "totalDeVendas = juntandoTudo.groupby(['VENDEDOR']).sum()\n",
        "\n",
        "print(totalDeVendas['PREÇO'])\n",
        "print(totalDeVendas.plot(kind='bar'))\n",
        "totalDeVendas.to_excel('novaPlanilha.xlsx')"
      ],
      "metadata": {
        "id": "xLhRX6ki4mGJ"
      },
      "execution_count": null,
      "outputs": []
    },
    {
      "cell_type": "markdown",
      "source": [
        "# **Match & Case**"
      ],
      "metadata": {
        "id": "6Uo87n-PgHx5"
      }
    },
    {
      "cell_type": "code",
      "source": [
        "dia = 1\n",
        "match dia: #match e o nome da váriavel\n",
        "  case 1:\n",
        "     print(\"Domingo\")\n",
        "  case 2:\n",
        "     print(\"Segunda\")\n",
        "  case 3:\n",
        "     print(\"Terça\")\n",
        "  case _:\n",
        "     print(\"Outro dia\")\n",
        "\n",
        "'''\n",
        "dia = \"Segunda\"\n",
        "match dia:\n",
        "  case \"Domingo\":\n",
        "     print(\"1\")\n",
        "  case \"Segunda\":\n",
        "     print(\"2\")\n",
        "  case \"Terça\":\n",
        "     print(\"3\")\n",
        "  case _:\n",
        "     print(\"Outro dia\")\n",
        "'''"
      ],
      "metadata": {
        "id": "aI2taP8Vfjtx"
      },
      "execution_count": null,
      "outputs": []
    },
    {
      "cell_type": "code",
      "source": [
        "# Exercício 29\n",
        "m = 8 # m <-- mês correspondente\n",
        "match m:\n",
        "  case 1:\n",
        "    print(\"Janeiro\")\n",
        "  case 2:\n",
        "    print(\"Fevereiro\")\n",
        "  case 3:\n",
        "    print(\"Março\")\n",
        "  case 4:\n",
        "    print(\"Abril\")\n",
        "  case 5:\n",
        "    print(\"Maio\")\n",
        "  case 6:\n",
        "    print(\"Junho\")\n",
        "  case 7:\n",
        "    print(\"Julho\")\n",
        "  case 8:\n",
        "    print(\"Agosto\")\n",
        "  case 9:\n",
        "    print(\"Setembro\")\n",
        "  case 10:\n",
        "    print(\"Outubro\")\n",
        "  case 11:\n",
        "    print(\"Novembro\")\n",
        "  case 12:\n",
        "    print(\"Dezembro\")\n",
        "  case _:\n",
        "    print(\"Mês inválido!\")"
      ],
      "metadata": {
        "id": "0Qz0lIV9nHX_"
      },
      "execution_count": null,
      "outputs": []
    },
    {
      "cell_type": "code",
      "source": [
        "#exercício 26\n",
        "n = int(input(\"Digite um número de 1 a 5: \")) # para transformar a str em int,para ler\n",
        "match n:\n",
        "  case 1:\n",
        "    print(\"Um\")\n",
        "  case 2:\n",
        "      print(\"Dois\")\n",
        "  case 3:\n",
        "      print(\"Três\")\n",
        "  case 4:\n",
        "      print(\"Quatro\")\n",
        "  case 5:\n",
        "      print(\"Cinco\")\n",
        "  case _:\n",
        "    print(\"Número inválido\")"
      ],
      "metadata": {
        "id": "R4_cWd9avkR5"
      },
      "execution_count": null,
      "outputs": []
    },
    {
      "cell_type": "markdown",
      "source": [
        "# **BeautifulSoap_Find**"
      ],
      "metadata": {
        "id": "jmnA_nDyhErp"
      }
    },
    {
      "cell_type": "code",
      "source": [
        "from bs4 import BeautifulSoup\n",
        "import requests\n",
        "url =\"https://mundoeducacao.uol.com.br/geografia/estados-brasil.htm\"\n",
        "page = requests.get(url)\n",
        "#print(page)\n",
        "soup = BeautifulSoup(page.text,\"html\")\n",
        "#meta = soup.find_all('meta')\n",
        "#for x in meta:\n",
        "#print(x)\n",
        "#buscou o titulo dento da progrmação do site\n",
        "titulo = soup.find('title')\n",
        "#test = soup.find('td')\n",
        "print(titulo)\n",
        "#print(test)"
      ],
      "metadata": {
        "id": "9gLiY7h1hIOh"
      },
      "execution_count": null,
      "outputs": []
    },
    {
      "cell_type": "code",
      "source": [
        "from bs4 import BeautifulSoup\n",
        "import requests\n",
        "url = \"https://valorinveste.globo.com/cotacoes/dolar/\"\n",
        "page = requests.get(url)\n",
        "soup = BeautifulSoup(page.text,\"html\")\n",
        "valor = soup.find( 'span',class_=\"tabela-data__ticker__lastQuote\")\n",
        "hora = soup.find('span',class_=\"last-update-time\")\n",
        "print(valor) # soup mostra o site todo/se não mostrar troque de site\n",
        "print(hora)\n",
        "#for x in valor:\n",
        "  #print(x) vai colocar todos embaixo um do outro"
      ],
      "metadata": {
        "id": "Cc9bhU0_hLeB"
      },
      "execution_count": null,
      "outputs": []
    },
    {
      "cell_type": "code",
      "source": [
        "from bs4 import BeautifulSoup\n",
        "import requests\n",
        "url = \"https://www.scrapethissite.com/pages/forms/\"\n",
        "page = requests.get(url)\n",
        "soup = BeautifulSoup(page.text,\"html\")\n",
        "tabela = soup.find('td', class_='nome')\n",
        "\n",
        "#ano = soup.find_all('td',class_='year')\n",
        "#print(ano)\n",
        "#v = soup.find_all('td', class_='wins')\n",
        "#print(v)\n",
        "#l = soup.find_all('td',class_='losses')\n",
        "#print(l)"
      ],
      "metadata": {
        "id": "6yREchRZhN7R"
      },
      "execution_count": null,
      "outputs": []
    },
    {
      "cell_type": "code",
      "source": [
        "from bs4 import BeautifulSoup\n",
        "import requests\n",
        "url = \"https://www.scrapethissite.com/pages/forms/\"\n",
        "page = requests.get(url)\n",
        "soup = BeautifulSoup(page.text,\"html\")\n",
        "tabela = soup.find('table')\n",
        "print(tabela)\n",
        "\n",
        "f"
      ],
      "metadata": {
        "id": "q0Dvzya9rTB2"
      },
      "execution_count": null,
      "outputs": []
    },
    {
      "cell_type": "markdown",
      "source": [
        "# **Análize**"
      ],
      "metadata": {
        "id": "2HcJ5n2M8eot"
      }
    },
    {
      "cell_type": "code",
      "source": [
        "# desenvolva um código para testar se um e-mail digitado é válido\n",
        "email1=input(\"Digite o seu email: \")\n",
        "email2 = input(\"Digite o seu email novamente: \")\n",
        "if email1 == email2 :\n",
        "  print(\"Cadastrado\")\n",
        "else:\n",
        "  print(\"Tente novamente,o email está incorreto\")\n"
      ],
      "metadata": {
        "id": "fFH8nKAH9uN4"
      },
      "execution_count": null,
      "outputs": []
    },
    {
      "cell_type": "code",
      "source": [
        "# exercício 31\n",
        "\n",
        "# Ler os três valores inteiros\n",
        "a = int(input(\"Digite o comprimento do lado 1: \"))\n",
        "b = int(input(\"Digite o comprimento do lado 2: \"))\n",
        "c = int(input(\"Digite o comprimento do lado 3: \"))\n",
        "\n",
        "# Verificar se os valores podem formar um triângulo\n",
        "if a < b + c and b < a + c and c < a + b:\n",
        "    # Verificar o tipo de triângulo\n",
        "    if a == b == c:\n",
        "        print(\"Os lados formam um triângulo equilátero.\")\n",
        "    elif a == b or a == c or b == c:\n",
        "        print(\"Os lados formam um triângulo isóscele.\")\n",
        "    else:\n",
        "        print(\"Os lados formam um triângulo escaleno.\")\n",
        "else:\n",
        "    print(\"Os lados não podem formar um triângulo.\")"
      ],
      "metadata": {
        "id": "VV_pECHD-okB"
      },
      "execution_count": null,
      "outputs": []
    }
  ]
}