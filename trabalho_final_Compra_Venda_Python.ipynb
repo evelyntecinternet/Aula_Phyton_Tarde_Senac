{
  "nbformat": 4,
  "nbformat_minor": 0,
  "metadata": {
    "colab": {
      "provenance": [],
      "mount_file_id": "1YAk8GlcjxScgQ8Fq2SYLEhbvtTnvwNYW",
      "authorship_tag": "ABX9TyPAwiNbG1EVyJgLTVd0yi6C",
      "include_colab_link": true
    },
    "kernelspec": {
      "name": "python3",
      "display_name": "Python 3"
    },
    "language_info": {
      "name": "python"
    }
  },
  "cells": [
    {
      "cell_type": "markdown",
      "metadata": {
        "id": "view-in-github",
        "colab_type": "text"
      },
      "source": [
        "<a href=\"https://colab.research.google.com/github/evelyntecinternet/Aula_Phyton_Tarde_Senac/blob/main/trabalho_final_Compra_Venda_Python.ipynb\" target=\"_parent\"><img src=\"https://colab.research.google.com/assets/colab-badge.svg\" alt=\"Open In Colab\"/></a>"
      ]
    },
    {
      "cell_type": "code",
      "execution_count": null,
      "metadata": {
        "id": "feY9MDq_pdHU"
      },
      "outputs": [],
      "source": [
        "# menu uso comando match\n",
        "print(\"1 - Cadastro | 2 - Efetuar venda | 3 - Relatórios | 4 - Sair\")\n",
        "print(\"Escolha uma das opções: \")\n",
        "\n",
        "opcao = int (input(\"Digite uma das opções acima : (1,2,3 ou 4): \"))\n",
        "\n",
        "match opcao:\n",
        "  case 1:\n",
        "    '''usar while\n",
        "     você deverá criar comandos para cadastrar produtos para venda\n",
        "    os produtos devem ser listados e mostrados na tela durante o uso dessa opcao\n",
        "     o cadastro dos produtos poderá ser aleatório ou seja qualqer quantidade de \\n produtos a serem vendidos\n",
        "     o cadastro do conteúdo deverá ter nome,quantidade em estoque e valor compra(pago na mercadoria)'''\n",
        "  case 2:\n",
        "    '''aqui você deverá pensar no código para efetuar um processo de venda básica\n",
        "    você deverá testar se o produto tem a quantidade de estoque para vender\n",
        "     Após a venda você deverá armazenar os produtos vendidos e seus valores\n",
        "    também deverá efetuar o decrementado no campo de quantidades dos produtos em estoque/diminuir o estoque que vendeu\n",
        "    adicionar o dia que foi vendido\n",
        "    Definir uma porcentagem '''\n",
        "  case 3:\n",
        "    '''Esse relatório deverá ser pensado para responder algumas perguntas,exemplo:\n",
        "    Quantidade de produtos  para efetuar as compras e manter estoque em dia\n",
        "     Quantidade de vendas efetuadas no dia,semana ou mês por exemplo\n",
        "    algo a mais que você deverá pensar e acrecentar no software\n",
        "    todos os relatórios deverá obter a opção se deseja salvar em uma planilha no excel'''"
      ]
    },
    {
      "cell_type": "code",
      "source": [
        "#produtos cadastrados\n",
        "from openpyxl import Workbook\n",
        "wb = Workbook()\n",
        "\n",
        "import datetime\n",
        "while True:\n",
        "\n",
        "  opcao = int(input(\"1 - Cadastro | 2 - Efetuar venda | 3 - Relatórios | 4 - Sair: \"))\n",
        "\n",
        "  match opcao:\n",
        "        case 1:\n",
        "          #cadastrar um produto\n",
        "           nome = str(input(\"Digite o nome do produto: \"))\n",
        "\n",
        "           quantidade = int(input(\"Digite a quantidade do produto: \"))\n",
        "\n",
        "           valor = float(input(\"Digite o valor unitário do produto: \"))\n",
        "\n",
        "           cadastrarProdutos = (nome,quantidade,valor)\n",
        "\n",
        "\n",
        "\n",
        "        case 2:\n",
        "          #vendas\n",
        "          estoque = int(input(\"Digite quantas unidades do produto há no  estoque: \"))\n",
        "          decrementado =  estoque - quantidade\n",
        "\n",
        "          print(\"Ainda restam no estoque: \",decrementado,)\n",
        "\n",
        "          real_valor = valor * quantidade\n",
        "          money = float(input(\"Digite o valor do dinheiro: \"))\n",
        "          porcentagem = real_valor * 0.14 / 100\n",
        "          troco = money - porcentagem\n",
        "          print(\"Você tem que voltar de troco:\",troco)\n",
        "          data = datetime.date(2024,3,15)\n",
        "          print(data)\n",
        "          print(data.ctime())\n",
        "\n",
        "        case 3:\n",
        "          ws = wb.active\n",
        "          ws['A1'] = nome\n",
        "          ws['A2'] = quantidade\n",
        "          ws['A3'] = valor\n",
        "\n",
        "          wb.save(\"Vendas.xlsx\")\n",
        "\n",
        "          planilha = ws['A1'].value\n",
        "          pl2 = ws['A2'].value\n",
        "          pl3= ws['A3'].value\n",
        "\n",
        "          print(\"Produto:\",planilha)\n",
        "          print(\"Quantidade:\",pl2)\n",
        "          print(\"Valor:\",pl3)\n",
        "\n",
        "        case 4:\n",
        "          #para sair\n",
        "          sair = input(\"Você realmente deseja sair: \")\n",
        "\n",
        "          if sair == \"sim\":\n",
        "            print(\"Programa encerrado!\")\n",
        "            break\n",
        "          else:\n",
        "            print(\"Resposta inválida!\")\n",
        "\n",
        "        case _:\n",
        "          print(\"Opção inválida\")\n",
        "\n"
      ],
      "metadata": {
        "id": "rFU5ISJmPUE4"
      },
      "execution_count": null,
      "outputs": []
    }
  ]
}